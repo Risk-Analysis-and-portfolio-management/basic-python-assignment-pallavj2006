{
 "cells": [
  {
   "cell_type": "code",
   "execution_count": 2,
   "id": "34e8ddfc-a8ba-45c3-9eb7-62cc76845db6",
   "metadata": {},
   "outputs": [],
   "source": [
    "import yfinance as yf\n",
    "import matplotlib.pyplot as plt\n",
    "import numpy as np"
   ]
  },
  {
   "cell_type": "code",
   "execution_count": 21,
   "id": "118f85c8-2458-4bf0-abb6-d1e5a700d236",
   "metadata": {},
   "outputs": [
    {
     "name": "stderr",
     "output_type": "stream",
     "text": [
      "[*********************100%***********************]  5 of 5 completed\n"
     ]
    },
    {
     "ename": "NameError",
     "evalue": "name 'ticker' is not defined",
     "output_type": "error",
     "traceback": [
      "\u001b[0;31m---------------------------------------------------------------------------\u001b[0m",
      "\u001b[0;31mNameError\u001b[0m                                 Traceback (most recent call last)",
      "Cell \u001b[0;32mIn[21], line 30\u001b[0m\n\u001b[1;32m     27\u001b[0m start_date \u001b[38;5;241m=\u001b[39m \u001b[38;5;124m'\u001b[39m\u001b[38;5;124m2023-01-01\u001b[39m\u001b[38;5;124m'\u001b[39m\n\u001b[1;32m     28\u001b[0m end_date \u001b[38;5;241m=\u001b[39m \u001b[38;5;124m'\u001b[39m\u001b[38;5;124m2023-12-31\u001b[39m\u001b[38;5;124m'\u001b[39m\n\u001b[0;32m---> 30\u001b[0m portfolio_returns \u001b[38;5;241m=\u001b[39m analyze_portfolio(tickers, weights, start_date, end_date)\n",
      "Cell \u001b[0;32mIn[21], line 16\u001b[0m, in \u001b[0;36manalyze_portfolio\u001b[0;34m(tickers, weights, start_date, end_date)\u001b[0m\n\u001b[1;32m     11\u001b[0m \u001b[38;5;28;01mfor\u001b[39;00m i \u001b[38;5;129;01min\u001b[39;00m \u001b[38;5;28mrange\u001b[39m(\u001b[38;5;241m1\u001b[39m, num_data):  \n\u001b[1;32m     12\u001b[0m     daily_returns \u001b[38;5;241m=\u001b[39m np\u001b[38;5;241m.\u001b[39marray([\n\u001b[1;32m     13\u001b[0m         (data[tickers[j]]\u001b[38;5;241m.\u001b[39miloc[i] \u001b[38;5;241m-\u001b[39m data[tickers[j]]\u001b[38;5;241m.\u001b[39miloc[i\u001b[38;5;241m-\u001b[39m\u001b[38;5;241m1\u001b[39m]) \u001b[38;5;241m/\u001b[39m data[tickers[j]]\u001b[38;5;241m.\u001b[39miloc[i\u001b[38;5;241m-\u001b[39m\u001b[38;5;241m1\u001b[39m]\n\u001b[1;32m     14\u001b[0m         \u001b[38;5;28;01mfor\u001b[39;00m j \u001b[38;5;129;01min\u001b[39;00m \u001b[38;5;28mrange\u001b[39m(\u001b[38;5;28mlen\u001b[39m(tickers))\n\u001b[1;32m     15\u001b[0m     ])\n\u001b[0;32m---> 16\u001b[0m     portfolio_returns[i] \u001b[38;5;241m=\u001b[39m np\u001b[38;5;241m.\u001b[39mdot(shares_ticker[ticker], daily_returns)\n\u001b[1;32m     18\u001b[0m final_prices \u001b[38;5;241m=\u001b[39m data\u001b[38;5;241m.\u001b[39miloc[\u001b[38;5;241m-\u001b[39m\u001b[38;5;241m1\u001b[39m]  \n\u001b[1;32m     19\u001b[0m portfolio_value \u001b[38;5;241m=\u001b[39m \u001b[38;5;28msum\u001b[39m(shares_ticker[ticker] \u001b[38;5;241m*\u001b[39m final_prices[ticker] \u001b[38;5;28;01mfor\u001b[39;00m ticker \u001b[38;5;129;01min\u001b[39;00m tickers)\n",
      "\u001b[0;31mNameError\u001b[0m: name 'ticker' is not defined"
     ]
    }
   ],
   "source": [
    "def analyze_portfolio(tickers, weights, start_date, end_date):\n",
    "    data = yf.download(tickers, start=start_date, end=end_date)['Close']\n",
    "    initial_investment = 1000000\n",
    "    shares_ticker = {}\n",
    "    for i in range(len(tickers)):  \n",
    "        shares_ticker[tickers[i]] = (weights[i] * initial_investment) / data[tickers[i]].iloc[0]\n",
    "    \n",
    "    num_data = len(data)\n",
    "    portfolio_returns = np.zeros(num_data)\n",
    "    \n",
    "    for i in range(1, num_data):  \n",
    "        daily_returns = np.array([\n",
    "            (data[tickers[j]].iloc[i] - data[tickers[j]].iloc[i-1]) / data[tickers[j]].iloc[i-1]\n",
    "            for j in range(len(tickers))\n",
    "        ])\n",
    "        portfolio_returns[i] = np.dot([shares_ticker[ticker] for ticker in tickers], daily_returns)\n",
    "\n",
    "\n",
    "    final_prices = data.iloc[-1]  \n",
    "    portfolio_value = sum(shares_ticker[ticker] * final_prices[ticker] for ticker in tickers)\n",
    "    \n",
    "    print(f\"Final Portfolio Value: ${portfolio_value:.2f}\")\n",
    "    return portfolio_value\n",
    "\n",
    "    \n",
    "tickers = ['AAPL', 'MSFT', 'GOOGL', 'TSLA', 'NVDA']\n",
    "weights = [0.3, 0.2, 0.2, 0.2, 0.1]\n",
    "start_date = '2023-01-01'\n",
    "end_date = '2023-12-31'\n",
    "\n",
    "portfolio_returns = analyze_portfolio(tickers, weights, start_date, end_date)\n",
    "\n",
    "\n",
    "\n"
   ]
  },
  {
   "cell_type": "code",
   "execution_count": null,
   "id": "e3e85c6e-71e6-4b2a-9fb4-df305b20f983",
   "metadata": {},
   "outputs": [],
   "source": []
  },
  {
   "cell_type": "code",
   "execution_count": null,
   "id": "7bf71f76-f264-4afb-9b1f-056c419c80f5",
   "metadata": {},
   "outputs": [],
   "source": []
  }
 ],
 "metadata": {
  "kernelspec": {
   "display_name": "Python [conda env:base] *",
   "language": "python",
   "name": "conda-base-py"
  },
  "language_info": {
   "codemirror_mode": {
    "name": "ipython",
    "version": 3
   },
   "file_extension": ".py",
   "mimetype": "text/x-python",
   "name": "python",
   "nbconvert_exporter": "python",
   "pygments_lexer": "ipython3",
   "version": "3.12.7"
  }
 },
 "nbformat": 4,
 "nbformat_minor": 5
}
