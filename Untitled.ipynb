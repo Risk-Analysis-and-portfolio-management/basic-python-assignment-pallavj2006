{
 "cells": [
  {
   "cell_type": "code",
   "execution_count": 6,
   "id": "ec434cf7-76d3-43f9-8287-6923489d6158",
   "metadata": {},
   "outputs": [],
   "source": [
    "import yfinance as yf\n",
    "import matplotlib.pyplot as plt"
   ]
  },
  {
   "cell_type": "markdown",
   "id": "c8b925b2-737d-41a2-a40e-cd718538d0d9",
   "metadata": {},
   "source": []
  },
  {
   "cell_type": "code",
   "execution_count": null,
   "id": "604c7367-9d5c-4092-a219-68e4295916d0",
   "metadata": {},
   "outputs": [],
   "source": [
    "data= yf.download(\"AAPL\",start='2023-12-12',end='2024-12-12')\n",
    "closingdata= data[\"Close\"]\n",
    "plt.plot(closingdata.index, closingdata, color='blue', label='Closing Price')\n",
    "plt.title(f'{\"AAPL\"} Closing Price - Past 1 Year')\n",
    "plt.legend()\n",
    "plt.xlabel('Date')\n",
    "plt.ylabel('Price')\n",
    "plt.show()"
   ]
  },
  {
   "cell_type": "code",
   "execution_count": null,
   "id": "daed1f00-0bf0-4eb8-83fc-d1c7f095fb79",
   "metadata": {},
   "outputs": [],
   "source": []
  }
 ],
 "metadata": {
  "kernelspec": {
   "display_name": "Python [conda env:base] *",
   "language": "python",
   "name": "conda-base-py"
  },
  "language_info": {
   "codemirror_mode": {
    "name": "ipython",
    "version": 3
   },
   "file_extension": ".py",
   "mimetype": "text/x-python",
   "name": "python",
   "nbconvert_exporter": "python",
   "pygments_lexer": "ipython3",
   "version": "3.12.7"
  }
 },
 "nbformat": 4,
 "nbformat_minor": 5
}
